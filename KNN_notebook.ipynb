{
 "cells": [
  {
   "cell_type": "markdown",
   "metadata": {},
   "source": [
    "# TD1 : Classification supervisée probabiliste (Nativel Emmanuel 36008527)"
   ]
  },
  {
   "cell_type": "markdown",
   "metadata": {},
   "source": [
    "## Exercice 1.2 : implémentation de l'algorithme K-NN"
   ]
  },
  {
   "cell_type": "markdown",
   "metadata": {},
   "source": [
    "### Représentation des données\n",
    "\n",
    "Les données sont représentées dans un dataFrame.\n",
    "Contrainte : la colonne des classes doit être nommée \"Class\"."
   ]
  },
  {
   "cell_type": "code",
   "execution_count": 1,
   "metadata": {},
   "outputs": [
    {
     "name": "stdout",
     "output_type": "stream",
     "text": [
      "Représentation des données de l'exercice : \n",
      "\n",
      "     Age  Emprunt Class\n",
      "x1    25    40000     N\n",
      "x2    35    60000     N\n",
      "x3    45    80000     N\n",
      "x4    20    20000     N\n",
      "x5    35   120000     N\n",
      "x6    52    18000     N\n",
      "x7    23    95000     Y\n",
      "x8    40    62000     Y\n",
      "x9    60   100000     Y\n",
      "x10   48   220000     Y\n",
      "x11   33   150000     Y\n"
     ]
    }
   ],
   "source": [
    "import pandas as pd\n",
    "\n",
    "# Liste des attributs\n",
    "attributs = [\"Age\", \"Emprunt\", \"Class\"]\n",
    "\n",
    "#Mes données sous forme de dictionnaire\n",
    "data = {\n",
    "    \"Age\" : [25, 35, 45, 20, 35, 52, 23, 40, 60, 48, 33], \n",
    "    \"Emprunt\" : [40000, 60000, 80000, 20000, 120000, 18000, 95000, 62000, 100000, 220000, 150000], \n",
    "    \"Class\" : [\"N\", \"N\", \"N\", \"N\", \"N\", \"N\", \"Y\", \"Y\", \"Y\", \"Y\", \"Y\"]\n",
    "}\n",
    "\n",
    "dimension = 11\n",
    "\n",
    "#Les index : x1, x2... x11\n",
    "index = ['x'+str(i) for i in range(1, dimension+1)]\n",
    "\n",
    "#Création du dataFrame\n",
    "df = pd.DataFrame(data, index = index)\n",
    "\n",
    "print(\"Représentation des données de l'exercice : \\n\")\n",
    "print(df)"
   ]
  },
  {
   "cell_type": "markdown",
   "metadata": {},
   "source": [
    "### Normalisation grâce à l'algorithme min-max"
   ]
  },
  {
   "cell_type": "code",
   "execution_count": 2,
   "metadata": {},
   "outputs": [
    {
     "name": "stdout",
     "output_type": "stream",
     "text": [
      "Notre objet test xt : \n",
      "\n",
      "Age            48\n",
      "Emprunt    142000\n",
      "Class            \n",
      "dtype: object\n",
      "\n",
      "xt normalisé : \n",
      "\n",
      "Age        0.700000\n",
      "Emprunt    0.613861\n",
      "Class           NaN\n",
      "dtype: float64\n",
      "\n",
      "Nos données normalisées : \n",
      "\n",
      "       Age   Emprunt Class\n",
      "x1   0.125  0.108911     N\n",
      "x2   0.375  0.207921     N\n",
      "x3   0.625  0.306931     N\n",
      "x4   0.000  0.009901     N\n",
      "x5   0.375  0.504950     N\n",
      "x6   0.800  0.000000     N\n",
      "x7   0.075  0.381188     Y\n",
      "x8   0.500  0.217822     Y\n",
      "x9   1.000  0.405941     Y\n",
      "x10  0.700  1.000000     Y\n",
      "x11  0.325  0.653465     Y\n"
     ]
    }
   ],
   "source": [
    "# Normalisation du dataFrame et sauvegarde des valeurs min/max pour chaque attribut\n",
    "# INPUT : \n",
    "    ## dataFrame --> Le dataFrame non normalisé\n",
    "    ## listMin -->  Une série (pandas) vide qui va stocker les valeurs minimales de chaque attributs \n",
    "    ## listMax -->  Une série (pandas) vide qui va stocker les valeurs maximales de chaque attributs \n",
    "# OUTPUT : \n",
    "    ## Renvoi le dataFrame avec des données normalisées grâce à l'algorithme min-max\n",
    "# EFFET DE BORD : \n",
    "    ## Remplissage des Séries listMin et listMax\n",
    "def normaliseMinMaxData(dataFrame, listMin, listMax) :\n",
    "    dataFrame_normalised = dataFrame.copy()\n",
    "    for i in dataFrame : \n",
    "        if i != \"Class\"  :\n",
    "            df_col = dataFrame.loc[:,[i]] #récupère une colonne du dataFrame donné en paramètre\n",
    "            maxi = df_col.max().values #minimum de la colonne\n",
    "            mini = df_col.min().values #maximum de la colonne\n",
    "            listMin[i] = mini\n",
    "            listMax[i] = maxi\n",
    "            df_col_normalise = df_col.apply(lambda x: (x-mini)/(maxi-mini)) #Application de la fonction à chaque élément de la colonne\n",
    "            dataFrame_normalised[i] = df_col_normalise #insertion des valeurs normalisées\n",
    "            \n",
    "    return dataFrame_normalised\n",
    "\n",
    "\n",
    "\n",
    "#Fonction qui normalise un individu x grâce à l'algorithme min-max\n",
    "# INPUT : \n",
    "    ## x --> L'individu non normalisé sous forme de Serie (pandas)\n",
    "    ## listMin -->  Une série (pandas) qui contient les valeurs minimales de chaque attributs \n",
    "    ## listMax -->  Une série (pandas) qui contient les valeurs maximales de chaque attributs\n",
    "    ## listAttributs --> La liste des colonnes de notre dataFrame\n",
    "# OUTPUT : \n",
    "    ## Renvoi une Série (pandas) décrivant l'individu x avec des valeurs normalisées grâce à l'algorithme min-max\n",
    "def normaliseMinMaxObject(x, listMin, listMax, listAttributs) :\n",
    "    normalised_x = pd.Series(index=listAttributs)\n",
    "    for i in listAttributs[:-1] :\n",
    "        mini = listMin[i]\n",
    "        maxi = listMax[i]\n",
    "        normalised_x[i] = (x[i]-mini)/(maxi-mini)\n",
    "    return normalised_x\n",
    "\n",
    "\n",
    "##Tests de normalisation min-max :\n",
    "\n",
    "xt = pd.Series([48,142000,\"\"], index=attributs) # Notre individu test\n",
    "\n",
    "minAttributs = pd.Series(index=attributs[:-1]) # Stockage des valeurs minimales de chaque attributs\n",
    "maxAttributs = pd.Series(index=attributs[:-1]) # Stockage des valeurs maximales de chaque attributs\n",
    "\n",
    "normalised_df = normaliseMinMaxData(df, minAttributs, maxAttributs) # Nos données normalisées\n",
    "normalised_xt = normaliseMinMaxObject(xt, minAttributs, maxAttributs, attributs) # Notre individu test normalisé\n",
    "\n",
    "print(\"Notre objet test xt : \\n\")\n",
    "print(xt)\n",
    "print()\n",
    "print(\"xt normalisé : \\n\")\n",
    "print(normalised_xt)\n",
    "print()\n",
    "print(\"Nos données normalisées : \\n\")\n",
    "print(normalised_df)"
   ]
  },
  {
   "cell_type": "markdown",
   "metadata": {},
   "source": [
    "### Fonction qui calcule la distance euclidienne entre deux objets\n",
    "Cette fonction est utilisée par la fonction predict"
   ]
  },
  {
   "cell_type": "code",
   "execution_count": 3,
   "metadata": {},
   "outputs": [],
   "source": [
    "from math import sqrt\n",
    "\n",
    "# Calcul de la distance euclidienne entre deux individus a et b\n",
    "# INPUT : \n",
    "    ## a et b -->  des individus sous forme de séries pandas\n",
    "    ## listAttributs --> La liste des colonnes de notre dataFrame\n",
    "# OUTPUT : \n",
    "    ## La distance euclidienne entre a et b\n",
    "def distanceEuclidienne(a,b, listAttributs) :\n",
    "    distance = 0\n",
    "    for i in listAttributs[:-1] :\n",
    "        distance += (a[i]-b[i])**2\n",
    "    return sqrt(distance)"
   ]
  },
  {
   "cell_type": "markdown",
   "metadata": {},
   "source": [
    "### Prédiction de la classe d'un objet xt en fonction de K et d'un dataFrame d'objets d'entraînement."
   ]
  },
  {
   "cell_type": "code",
   "execution_count": 4,
   "metadata": {},
   "outputs": [
    {
     "name": "stdout",
     "output_type": "stream",
     "text": [
      "Prédiction de la classe de xt avec K=3 :  N\n"
     ]
    }
   ],
   "source": [
    "from collections import Counter\n",
    "\n",
    "#Fonction qui prédit la classe d'un objet \n",
    "# INPUT : \n",
    "    ## dataFrame --> Nos données d'apprentissage, sous forme de dataFrame\n",
    "    ## xt --> Un individu dont on veut prédire la classe\n",
    "    ## K --> Le nombre de plus proche voisins à prendre en compte \n",
    "    ## listAttributs --> La liste des colonnes de notre dataFrame\n",
    "# OUTPUT : \n",
    "    ## Renvoi la classe de l'individu xt\n",
    "def predict(xt, dataFrame, K, listAttributs) :\n",
    "    dimension = len(dataFrame) #dimensions de la population\n",
    "    distances = [] #tableau de tuples : (distance, objet) pour stocker les distances\n",
    "    \n",
    "    for i in range(dimension) :\n",
    "        x = dataFrame.iloc[i]\n",
    "        distance = distanceEuclidienne(xt, x, listAttributs)\n",
    "        \n",
    "        #Ajout de la distance dans le tableau. Ordonné de la plus petite à la plus grande distance.\n",
    "        if(len(distances) == 0) :\n",
    "            distances.append((distance, x))\n",
    "        else :   \n",
    "            for j in range(len(distances)) : \n",
    "                if distance < distances[j][0] :\n",
    "                    distances.insert(j, (distance, x))\n",
    "                    break\n",
    "                elif(j==len(distances)-1) :\n",
    "                    distances.append((distance, x))\n",
    "    \n",
    "    \n",
    "    classes = list(map(lambda x: x[1].Class, distances[0:K])) # Liste des K classes les plus proches\n",
    "    prediction = Counter(classes).most_common(1)[0][0]        # Classe majoritaire de la liste\n",
    "    return prediction\n",
    "\n",
    "\n",
    "\n",
    "# Test de prédiction de l'objet xt avec K = 3: \n",
    "K = 3\n",
    "\n",
    "classe_xt = predict(normalised_xt, normalised_df, K, attributs) #Prédiction de la classe de notre individu test\n",
    "\n",
    "print(\"Prédiction de la classe de xt avec K=3 : \", classe_xt)"
   ]
  },
  {
   "cell_type": "markdown",
   "metadata": {},
   "source": [
    "### Evaluation de performance \n",
    "Ici, nos données d'apprentissage et nos données de test sont les mêmes."
   ]
  },
  {
   "cell_type": "code",
   "execution_count": 5,
   "metadata": {},
   "outputs": [
    {
     "name": "stdout",
     "output_type": "stream",
     "text": [
      "Le taux de réussite de notre modèle sur les données de l'exercice est de : 0.7272727272727273\n"
     ]
    }
   ],
   "source": [
    "# Fonction qui calcule le taux de réussite du modèle\n",
    "# INPUT : \n",
    "    ## model --> Une fonction représentant notre modèle, elle doit prédire une classe.\n",
    "    ## dataTrain --> Nos données d'apprentissage\n",
    "    ## dataTest --> Nos données de test\n",
    "    ## k --> Le nombre de plus proche voisins à prendre en compte \n",
    "    ## listAttributs --> La liste des colonnes de notre dataFrame\n",
    "# OUTPUT : \n",
    "    ## Renvoit le taux de réussite des prédictions de notre modèle sur l'échantillon test (compris entre 0 et 1)\n",
    "def evalPerf(model, dataTrain, dataTest, k, listAttributs) :\n",
    "    valide = 0\n",
    "    size = len(dataTest) # Taille de l'échantillon de test\n",
    "    for i in range(size) :\n",
    "        x = dataTest.iloc[i] # On récupère un individu de l'échantillon\n",
    "        classe = model(x, dataTrain, k, listAttributs) # Classe de l'individu\n",
    "        if classe == x.Class :\n",
    "            valide += 1\n",
    "    return valide/size\n",
    "    \n",
    "\n",
    "taux = evalPerf(predict, normalised_df, normalised_df, K, attributs)\n",
    "\n",
    "print(\"Le taux de réussite de notre modèle sur les données de l'exercice est de :\", taux)"
   ]
  },
  {
   "cell_type": "markdown",
   "metadata": {},
   "source": [
    "### Représentation graphique de la performance du modèle en fonction de K"
   ]
  },
  {
   "cell_type": "code",
   "execution_count": 7,
   "metadata": {},
   "outputs": [
    {
     "data": {
      "image/png": "[encoded data removed]",
      "text/plain": [
       "<Figure size 645.125x504 with 1 Axes>"
      ]
     },
     "metadata": {
      "needs_background": "light"
     },
     "output_type": "display_data"
    }
   ],
   "source": [
    "import matplotlib.pyplot as plt\n",
    "import seaborn as sns \n",
    "\n",
    "# Affichage graphique du taux de réussite du modèle sur les données fournies en fonction des valeurs de K comprises entre Kmin et Kmax\n",
    "# INPUT : \n",
    "    ## model --> Une fonction représentant notre modèle, elle doit prédire une classe.\n",
    "    ## dataTrain --> Nos données d'apprentissage\n",
    "    ## dataTest --> Nos données de test\n",
    "    ## listAttributs --> La liste des colonnes de notre dataFrame\n",
    "    ## Kmin --> La valeur de K minimale à afficher \n",
    "    ## Kmax --> La valeur de K maximale à afficher\n",
    "# OUTPUT : \n",
    "    ## Affiche la représentation graphique de l'évolution du taux de réussite en foncion de K\n",
    "def showKnnPerf(model, dataTrain, dataTest, listAttributs, Kmin, Kmax) :\n",
    "    # Initialisation des données\n",
    "    x = [i for i in range(Kmin, Kmax+1)] # On met les valeurs de K sur l'axe X\n",
    "    y = [evalPerf(model, dataTrain, dataTest, i, listAttributs)*100 for i in x] # On met le taux de réussite sur l'axe Y\n",
    "    data = pd.DataFrame(data={'x': x, 'y': y})\n",
    "\n",
    "    # Affichage des markers et de la légende\n",
    "    plot = sns.lmplot('x', 'y', data, height=7, truncate=True, scatter_kws={\"s\": 100}, ci=None, fit_reg=False, hue='y')\n",
    "    \n",
    "    # Affichage de la valeur de K sur les markers\n",
    "    for i, point in data.iterrows():\n",
    "            plt.gca().text(point['x']+.2, point['y'], int(point['x']))\n",
    "    \n",
    "    plot.set_axis_labels('x')\n",
    "\n",
    "    # Paramétrages des axes\n",
    "    plt.plot(x, y) # Affichage de la courbe\n",
    "    plt.xlabel(\"K\")\n",
    "    plt.ylabel(\"Taux de réussite (%)\")\n",
    "    plt.title(\"Evolution de la performance du modèle en fonction de K\")\n",
    "    plt.xticks(x)\n",
    "    \n",
    "    # Affichage\n",
    "    plt.show()\n",
    "    \n",
    "# Test sur les données de l'exercice    \n",
    "showKnnPerf(predict, normalised_df, normalised_df, attributs, 1, len(normalised_df))"
   ]
  },
  {
   "cell_type": "markdown",
   "metadata": {},
   "source": [
    "### KNN Avec les données Iris\n",
    "Pour cette expérience, on va prendre 2/3 des données en apprentissage et 1/3 des données pour les tests. Le graphique prend un peu de temps à s'afficher (environ 20 secondes pour moi)."
   ]
  },
  {
   "cell_type": "code",
   "execution_count": 12,
   "metadata": {},
   "outputs": [
    {
     "name": "stdout",
     "output_type": "stream",
     "text": [
      "Taux de réussite du modèle avec K = 10 :  0.94\n",
      "\n"
     ]
    },
    {
     "data": {
      "image/png": "[encoded data removed]",
      "text/plain": [
       "<Figure size 562.25x504 with 1 Axes>"
      ]
     },
     "metadata": {
      "needs_background": "light"
     },
     "output_type": "display_data"
    }
   ],
   "source": [
    "from sklearn import datasets\n",
    "import sklearn.utils\n",
    "\n",
    "# Chargement des données Iris\n",
    "iris = datasets.load_iris()\n",
    "\n",
    "# Traitement des données des individus\n",
    "iris_data = pd.DataFrame(iris.data)\n",
    "iris_data.columns=['Sepal_Length','Sepal_width','Petal_Length','Petal_width']\n",
    "\n",
    "# Récupération des classes des individus \n",
    "iris_class=pd.DataFrame(iris.target)\n",
    "iris_class.columns=['Class']\n",
    "\n",
    "# Préparation des données pour qu'elles soient exploitables pour nos fonctions\n",
    "data = iris_data.join(iris_class)\n",
    "\n",
    "# Mélange des données car elles sont classées par classe pour le moment\n",
    "data = sklearn.utils.shuffle(data)\n",
    "\n",
    "# Initialisation des données nécessaires\n",
    "attributs_iris = data.columns # Liste des attributs\n",
    "minAtt = pd.Series(index=attributs_iris[:-1]) # Stockage des valeurs minimales de chaque attributs\n",
    "maxAtt = pd.Series(index=attributs_iris[:-1]) # Stockage des valeurs maximales de chaque attributs\n",
    "\n",
    "# Données iris normalisées\n",
    "normalised_iris = normaliseMinMaxData(data, minAtt, maxAtt) \n",
    "\n",
    "# Nos données d'apprentissage : 2/3 des données, soit les 100 premiers individus\n",
    "dTrain = normalised_iris[:100]\n",
    "\n",
    "# Nos données de test : 1/3 des données, soit les 50 derniers individus\n",
    "dTest = normalised_iris[100:]\n",
    "\n",
    "# Exemple du taux de réussite avec K=10\n",
    "print(\"Taux de réussite du modèle avec K = 10 : \", evalPerf(predict, dTrain, dTest, 10, attributs_iris))\n",
    "print()\n",
    "\n",
    "# Affichage graphique de la performance de notre modème pour K allant de 1 à 20\n",
    "showKnnPerf(predict, dTrain, dTest, attributs_iris, 1, 20)"
   ]
  },
  {
   "cell_type": "code",
   "execution_count": null,
   "metadata": {},
   "outputs": [],
   "source": []
  }
 ],
 "metadata": {
  "kernelspec": {
   "display_name": "Python 3",
   "language": "python",
   "name": "python3"
  },
  "language_info": {
   "codemirror_mode": {
    "name": "ipython",
    "version": 3
   },
   "file_extension": ".py",
   "mimetype": "text/x-python",
   "name": "python",
   "nbconvert_exporter": "python",
   "pygments_lexer": "ipython3",
   "version": "3.7.4"
  }
 },
 "nbformat": 4,
 "nbformat_minor": 4
}
